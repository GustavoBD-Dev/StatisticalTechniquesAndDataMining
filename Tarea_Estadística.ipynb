{
  "cells": [
    {
      "cell_type": "markdown",
      "metadata": {
        "id": "gt3lHS5yHKWc"
      },
      "source": [
        "## Ejercicio 1. Estimación de Parámetros Poblacionales: Método de Momentos\n",
        "\n",
        "El **método de momentos** es una técnica común para estimar parámetros poblacionales a partir de datos muestrales. Se basa en igualar los momentos muestrales (medias, varianzas, etc.) con sus contrapartes poblacionales conocidas.\n",
        "\n",
        "**Formalización:**\n",
        "\n",
        "1. **Momentos muestrales:** Se calculan los momentos muestrales de primer, segundo y orden superior a partir de los datos observados.\n",
        "\n",
        "2. **Ecuaciones de los momentos:** Se establecen ecuaciones que relacionan los momentos muestrales con los parámetros poblacionales desconocidos.\n",
        "\n",
        "3. **Solución del sistema:** Se resuelve el sistema de ecuaciones para obtener las estimaciones de los parámetros poblacionales.\n",
        "\n",
        "**Ventajas:**\n",
        "\n",
        "- Es un método simple y directo que no requiere información adicional sobre la distribución.\n",
        "- Es útil para estimar parámetros de diversas distribuciones.\n",
        "\n",
        "**Desventajas:**\n",
        "\n",
        "- Puede ser menos preciso que otros métodos, especialmente cuando la muestra es pequeña.\n",
        "- Las ecuaciones de los momentos no siempre son fáciles de resolver.\n",
        "\n",
        "**Ejemplo 1: Sea una población con distribución normal, encontrar estimadores para los parámetros $\\mu$ y\n",
        "$\\sigma^2$, por el método de los momentos, basados en una muestra aleatoria simple de tamaño $n$:**\n",
        "\n",
        "Si X es una variable aleatoria normal, su función de densidad de probabilidad es:\n",
        "\n",
        "$f(x;\\mu,\\sigma^2) = \\frac{1}{\\sqrt{2\\pi}\\sigma}e^{-\\frac{1}{2}(\\frac{x-\\mu}{\\sigma})^2}$\n",
        "\n",
        "Al tener dos parámetros ($\\mu$ y $\\sigma$) se plantearán dos ecuaciones:\n",
        "\n",
        "**Primer momento poblacional:**\n",
        "\n",
        "$\\mu'_1 = \\int_{-\\infty}^{\\infty}{x\\frac{1}{\\sqrt{2\\pi}\\sigma}e^{-\\frac{1}{2}(\\frac{x-\\mu}{\\sigma})^2}}dx = \\mu$\n",
        "\n",
        "**Segundo momento poblacional**\n",
        "\n",
        "$\\mu'_2 = \\int_{-\\infty}^{\\infty}{x^2(\\frac{1}{\\sqrt{2\\pi}\\sigma}e^{-\\frac{1}{2}(\\frac{x-\\mu}{\\sigma})^2})}dx = \\sigma^2 + \\mu^2$\n",
        "\n",
        "Por otro lado, los primeros dos momentos muestrales respecto al origen son:\n",
        "\n",
        "$\\mu'_1 = \\frac{1}{n}\\sum_{i=1}^{n}x_i = \\overline{x}$\n",
        "\n",
        "y\n",
        "\n",
        "$\\mu'_2 = \\frac{1}{n}\\sum_{i=1}^{n}x_i^2$\n",
        "\n",
        "Igualando los momentos poblacionales con sus correspondientes momentos muestrales se obtiene un sistema de ecuaciones con dos incógnitas:\n",
        "\n",
        "$\\mu = \\overline{x}$\n",
        "\n",
        "$\\sigma^2 + \\mu^2 = \\frac{1}{n}\\sum_{i=1}^{n}x_i^2$\n",
        "\n",
        "El resultado de la primera ecuación es claro para un estimador de $\\mu$. La segunda ecuación se resuelve para la segunda incógnita sustituyendo este valor de la siguiente forma:\n",
        "\n",
        "$\\mu = \\overline{x}$\n",
        "\n",
        "$\\sigma^2 + \\overline{x}^2 = \\frac{1}{n}\\sum_{i=1}^{n}x_i^2$\n",
        "\n",
        "Por lo tanto, los estimadores de los parámetros de una distribución $N(\\mu,\\sigma^2)$ están dados por la solución a dicho sistema:\n",
        "\n",
        "$\\mu = \\overline{x}$\n",
        "\n",
        "$\\sigma^2 = \\frac{1}{n}\\sum_{i=1}^{n}x_i^2 - \\overline{x}^2$\n",
        "\n",
        "El último resultado se puede reescribir como:\n",
        "\n",
        "$\\sigma^2 = \\frac{1}{n}\\sum_{i=1}^{n}(x_i - \\overline{x})^2$\n",
        "\n",
        "\n",
        "**Ejemplo 2: Sea una población con distribución Gamma con parámetros $\\alpha$ y $\\theta$, calcular sus estimadores por el método de momentos.**\n",
        "\n",
        "Bajo la parametrización $\\alpha$ y $\\theta$ se tiene la siguiente función de densidad:\n",
        "\n",
        "$$\\displaystyle f_{X}(x)=\\begin{cases}\n",
        "\t\\displaystyle \\frac{x^{\\alpha-1}e^{-x/\\theta} }{\\Gamma(\\alpha)\\theta^{\\alpha}} & x>0\\\\\n",
        "\t0 & \\text{en otro caso}\n",
        "\t\\end{cases}$$.\n",
        "\n",
        "Para el caso de la distribución $Gamma$ es difícil derivar su función de verosimilitud, por lo que es recomendable utilizar el método de momentos para calcular sus estimadores.\n",
        "\n",
        "**Primer momento poblacional:**\n",
        "\n",
        "$\\mu'_1 = \\alpha\\theta$\n",
        "\n",
        "Por otro lado, es más simple utilizar el segundo momento central (respecto la media) para hacer un sistema de ecuaciones simple.\n",
        "\n",
        "**Segundo momento central:**\n",
        "\n",
        "$\\text{Var}(X) = \\alpha\\theta^2$\n",
        "\n",
        "De manera que obtenemos el siguiente sistema de ecuaciones con dos incógnitas:\n",
        "\n",
        "$E(X) = \\alpha\\theta = \\frac{1}{n} \\sum_{i = 1}^{n}x_i = \\overline{x}$\n",
        "\n",
        "$\\text{Var}(X) = \\alpha\\theta^2 = \\frac{1}{n} \\sum_{i = 1}^{n}(x_i - \\overline{x})^2$\n",
        "\n",
        "Primer resolvemos la primera ecucación para $\\alpha$:\n",
        "\n",
        "$\\alpha = \\overline{x} / \\theta$\n",
        "\n",
        "Ahora sustituyendo en la segunda ecuación, obtenemos:\n",
        "\n",
        "$\\alpha\\theta^2 = \\frac{\\overline{x}}{\\theta}\\theta^2 = \\overline{x}\\theta = \\frac{1}{n} \\sum_{i = 1}^{n}(x_i - \\overline{x})^2$\n",
        "\n",
        "Finalmente resolviendo para $\\theta$:\n",
        "\n",
        "$\\hat{\\theta} = \\frac{1}{n \\overline{x}}\\sum_{i = 1}^{n}(x_i - \\overline{x})^2$\n",
        "\n",
        "Sustituímos de nuevo en $\\alpha$:\n",
        "\n",
        "$\\hat{\\alpha} = \\frac{\\overline{x}}{\\hat{\\theta}} = \\frac{\\overline{x}}{\\frac{1}{n \\overline{x}}\\sum_{i = 1}^{n}(x_i - \\overline{x})^2} = \\frac{n \\overline{x}^2}{\\sum_{i = 1}^{n}(x_i - \\overline{x})^2}$\n",
        "\n",
        "\n",
        "**Consideraciones:**\n",
        "\n",
        "- El método de momentos es más efectivo cuando la muestra es grande y la distribución es conocida.\n",
        "\n",
        "- Para distribuciones con múltiples parámetros, el sistema de ecuaciones de los momentos puede ser complejo de resolver.\n",
        "\n",
        "- En algunos casos, se pueden utilizar métodos numéricos para encontrar las soluciones del sistema.\n"
      ]
    },
    {
      "cell_type": "markdown",
      "metadata": {
        "id": "Uhz8ciyehoUl"
      },
      "source": [
        "# Ejercicio 2. Calcula el MLE para la media $\\mu$ y varianza $\\sigma^2$ de una muestra normal.\n",
        "\n",
        "Sean $x_1,x_2,...,x_n$ una muestra de datos que se asume sigue una distribución normal con media $μ$ y varianza $σ^2$. La distribución normal tiene la siguiente función de densidad de probabilidad:\n",
        "\n",
        "$$f(x|μ,σ^2)=\\frac{1}{\\sqrt{2π σ^2}}exp(-\\frac{{(x-μ)}^2}{2σ^2})$$\n",
        "\n",
        "La función de verosimilitud es el producto de las densidades individuales para cada observación:\n",
        "\n",
        "$$L(\\mu, \\sigma^2) = \\prod_{i=1}^{n} f(x_i|\\mu, \\sigma^2)$$\n",
        "\n",
        "Sustituyendo la función de densidad normal, obtenemos:\n",
        "\n",
        "$$L(\\mu, \\sigma^2) = \\prod_{i=1}^{n} \\frac{1}{\\sqrt{2\\pi\\sigma^2}} \\exp\\left (-\\frac{(x_i - \\mu)^2}{2\\sigma^2}\\right)$$\n",
        "\n",
        "## Simplificación de la Función de Verosimilitud\n",
        "\n",
        "Para simplificar esta expresión, separamos los términos:\n",
        "\n",
        "$$L(\\mu, \\sigma^2) = \\left(\\frac{1}{\\sqrt{2\\pi\\sigma^2}}\\right)^n \\exp\\left(-\\sum_{i=1}^{n} \\frac{(x_i - \\mu)^2}{2\\sigma^2}\\right)$$\n",
        "\n",
        "Se aplica logaritmo natural:\n",
        "\n",
        "$$\\log L(\\mu, \\sigma^2) = \\log \\left[ \\left(\\frac{1}{\\sqrt{2\\pi\\sigma^2}}\\right)^n \\exp\\left(-\\sum_{i=1}^{n} \\frac{(x_i - \\mu)^2}{2\\sigma^2}\\right) \\right]$$\n",
        "\n",
        "$$=\\log \\left(\\frac{1}{\\sqrt{2\\pi\\sigma^2}}\\right)^n + \\log \\left( \\exp\\left(-\\sum_{i=1}^{n} \\frac{(x_i - \\mu)^2}{2\\sigma^2}\\right) \\right)$$\n",
        "\n",
        "$$=n \\log \\left(\\frac{1}{\\sqrt{2\\pi\\sigma^2}}\\right) + \\left(-\\sum_{i=1}^{n} \\frac{(x_i - \\mu)^2}{2\\sigma^2}\\right)$$\n",
        "\n",
        "$$= n \\left(-\\frac{1}{2} \\log (2\\pi\\sigma^2)\\right) - \\frac{1}{2\\sigma^2} \\sum_{i=1}^{n} (x_i - \\mu)^2$$\n",
        "\n",
        "$$= -\\frac{n}{2} \\log(2\\pi\\sigma^2) - \\frac{1}{2\\sigma^2} \\sum_{i=1}^{n} (x_i - \\mu)^2$$\n",
        "\n",
        "## Estimación de $μ$\n",
        "\n",
        "Para encontrar el estimador de $\\mu$, derivamos la verosimilitud con respecto a $\\mu$ y la igualamos a cero:\n",
        "\n",
        "La derivada con respecto a $\\mu$ es:\n",
        "\n",
        "$$\\frac{\\partial \\log L(\\mu, \\sigma^2)}{\\partial \\mu} = \\frac{\\partial}{\\partial \\mu} \\left( -\\frac{n}{2} \\log(2\\pi\\sigma^2) - \\frac{1}{2\\sigma^2} \\sum_{i=1}^{n} (x_i - \\mu)^2 \\right)$$\n",
        "\n",
        "$$= - \\frac{1}{2\\sigma^2} \\frac{\\partial}{\\partial \\mu} \\left( \\sum_{i=1}^{n} (x_i - \\mu)^2 \\right)$$\n",
        "\n",
        "$$= - \\frac{1}{2\\sigma^2} (-2) \\sum_{i=1}^{n} (x_i - \\mu) = \\frac{1}{\\sigma^2} \\sum_{i=1}^{n} (x_i - \\mu)$$\n",
        "\n",
        "Igualamos a cero para encontrar el estimador $\\hat{\\mu}$:\n",
        "\n",
        "$$\\frac{1}{\\sigma^2} \\sum_{i=1}^{n} (x_i - \\mu) = 0$$\n",
        "\n",
        "$$\\sum_{i=1}^{n} x_i - n\\mu = 0$$\n",
        "\n",
        "$$\\hat{\\mu} = \\frac{1}{n} \\sum_{i=1}^{n} x_i$$\n",
        "\n",
        "## Estimación de $σ^2$\n",
        "\n",
        "Para encontrar el estimador de $\\sigma^2$, derivamos la verosimilitud con respecto a $\\sigma^2$ y la igualamos a cero:\n",
        "\n",
        "La derivada con respecto a $\\sigma^2$ es:\n",
        "\n",
        "$$\\frac{\\partial \\log L(\\mu, \\sigma^2)}{\\partial \\sigma^2} = \\frac{\\partial}{\\partial \\sigma^2} \\left( -\\frac{n}{2} \\log(2\\pi\\sigma^2) - \\frac{1}{2\\sigma^2} \\sum_{i=1}^{n} (x_i - \\mu)^2 \\right)$$\n",
        "\n",
        "Derivando cada término por separado:\n",
        "\n",
        "$$\\frac{\\partial}{\\partial \\sigma^2} \\left( -\\frac{n}{2} \\log(2\\pi\\sigma^2) \\right) = -\\frac{n}{2} \\cdot \\frac{1}{2\\sigma^2} \\cdot 2\\pi = -\\frac{n}{2\\sigma^2}$$\n",
        "\n",
        "$$\\frac{\\partial}{\\partial \\sigma^2} \\left( - \\frac{1}{2\\sigma^2} \\sum_{i=1}^{n} (x_i - \\mu)^2 \\right) = \\sum_{i=1}^{n} (x_i - \\mu)^2 \\cdot \\frac{1}{2\\sigma^4}$$\n",
        "\n",
        "Entonces:\n",
        "\n",
        "$$\\frac{\\partial \\log L(\\mu, \\sigma^2)}{\\partial \\sigma^2} = -\\frac{n}{2\\sigma^2} + \\frac{1}{2\\sigma^4} \\sum_{i=1}^{n} (x_i - \\mu)^2$$\n",
        "\n",
        "Igualamos a cero para encontrar el estimador $\\hat{\\sigma}^2$:\n",
        "\n",
        "$$-\\frac{n}{2\\sigma^2} + \\frac{1}{2\\sigma^4} \\sum_{i=1}^{n} (x_i - \\mu)^2 = 0$$\n",
        "\n",
        "Multiplicamos ambos lados por $2\\sigma^4$:\n",
        "\n",
        "$$-n\\sigma^2 + \\sum_{i=1}^{n} (x_i - \\mu)^2 = 0$$\n",
        "\n",
        "$$\\sum_{i=1}^{n} (x_i - \\mu)^2 = n\\sigma^2$$\n",
        "\n",
        "$$\\hat{\\sigma}^2 = \\frac{1}{n} \\sum_{i=1}^{n} (x_i - \\hat{\\mu})^2$$"
      ]
    },
    {
      "cell_type": "markdown",
      "metadata": {
        "id": "QU64kTPvJTkD"
      },
      "source": [
        "#Ejercicio 3\n",
        "Nos gustaría estimar la proporción de personas que planean votar por el Candidato A en una próxima elección. Se supone que el número de votantes es grande, y $θ$\n",
        " es la porción de votantes que planea votar por el Candidato A. Definimos la variable aleatoria $X$ como seguidor. Un votante es elegido uniformemente al azar entre todos los votantes y le preguntamos: \"¿Planea votar por el candidato?\n",
        " Si dice que \"si\", entonces $X=1$, en otro caso $X=0$\n",
        " Entonces\n",
        " $$X\\sim Bernoulli(θ)$$\n",
        " Sea $X_{1}, X_{2}, X_{3}, ... X_{n}$ una muestra aleatoria de esta distribucion. Es decir que $X_{i}^{´s}$ son i.i.d y $X_{i} \\sim Bernoulli(θ)$\n",
        " En otras palabras, seleccionamos aleatoriamente n\n",
        " votantes (con reemplazo) y le preguntamos a cada uno de ellos si planean votar por el Candidato A. Encuentra un intervalo de confianza $(1- α)100% $ para $θ$ para  $X_{1}, X_{2}, X_{3}, ... X_{n}$\n",
        "\n",
        " Dem:\n",
        " Sabemos que $Var[X_{i}]=σ^{2}$ y ademas $ θ=E[X_{i}] $\n",
        " Entonces $$IC_{α}=[\\bar{X} _{n}- Ƶ_{\\frac{α}{2}} \\frac{σ}{\\sqrt{n}},\\bar{X} _{n}+ Ƶ_{\\frac{α}{2}} \\frac{σ}{\\sqrt{n}}]$$\n",
        "\n",
        " Ahora como es una $Bernoulli(θ)$, su $Var[X_{i}]=θ(1-θ)$ y tambien $Var[X_{i}]=θ(1-θ)=σ^{2} $\n",
        "\n",
        "Tenemos que buscar la $\\sigma$. Pero tenemos que estimar primero $θ$. Entonces si podemos encontrar un limite superior para $\\sigma$, podemos usarlo para construir un intervalo de confianza para $θ$.\n",
        "Para encontrar este limite superior definamos\n",
        "$$f(θ)=θ(1-θ)$$ para $$ θ\\in [0,1]$$\n",
        "Y ahora usando la derivada e igualando a cero\n",
        "$f^{'}(\\theta)= 1-2\\theta$\n",
        "\n",
        "$0=1-2\\theta$\n",
        "\n",
        "$\\theta=\\frac{1}{2}$\n",
        "\n",
        "Entonces el máximo valor $\\theta=\\frac{1}{2}$\n",
        "\n",
        "Con lo que $f(\\theta)\\leq f(\\frac{1}{2})= \\frac{1}{4}$ para $\\theta \\in [0,1]$\n",
        "Así $\\sigma_{Max} = \\frac{1}{2}$\n",
        "Entonces concluímos que el intervalo de confianza  $(1- α)100% $ es: $$IC_{α}=[\\bar{X} _{n}- Ƶ_{\\frac{α}{2}} \\frac{ \\sigma_{Max}}{\\sqrt{n}},\\bar{X} _{n}+ Ƶ_{\\frac{α}{2}} \\frac{\\sigma_{Max}}{\\sqrt{n}}]$$\n",
        "$$IC_{α}=[\\bar{X} _{n}- Ƶ_{\\frac{α}{2}} \\frac{1/2}{\\sqrt{n}},\\bar{X} _{n}+ Ƶ_{\\frac{α}{2}} \\frac{1/2}{\\sqrt{n}}]$$\n",
        "\n",
        "$$IC_{α}=[\\bar{X} _{n}- \\frac{Ƶ_{\\frac{α}{2}}}{2\\sqrt{n}},\\bar{X} _{n}+ \\frac{Ƶ_{\\frac{α}{2}} }{2\\sqrt{n}}]$$\n",
        "Es un intervalo aproximado, sin embargo para números grandes n, es una buena aproximación."
      ]
    },
    {
      "cell_type": "markdown",
      "metadata": {
        "id": "ACQYTBt3wdUe"
      },
      "source": [
        "#Ejercicios de la sección 8.3.4\n",
        "###Problema 2\n",
        "\n",
        "Una muestra aleatoria $X_{1}$, $X_{2}$, $X_{3}$, ..., $X_{100}$ es dada por una distribución con varianza conocida $Var(X_{i}) = 16$. Para la muestra observada, la media muestral es $\\overline{X} = 23.5$. Encuentra una aproximación para un intervalo de confianza del $95\\%$ para ${θ} = EX_{i}$.\n",
        "\n",
        "\n",
        "\n",
        "$Solución$\n",
        "\n",
        "Tenemos que el siguiente intervalo\n",
        "\n",
        "$\\left[\n",
        "\\overline{X} - z_{\\frac{\\alpha}{2}} \\frac{\\sigma}{\\sqrt{n}}, \\,\n",
        "\\overline{X} + z_{\\frac{\\alpha}{2}} \\frac{\\sigma}{\\sqrt{n}}\n",
        "\\right]$\n",
        "\n",
        "es una aproximación para un intervalo de confianza del $(1- {α})100\\%$.\n",
        "\n",
        "Despejando ${α}$ para un intervalo de confianza del $95\\%$ tenemos\n",
        "$95\\% = (1-{α})100\\%$ entonces, ${α} = 1 - 95\\% = 0.05$\n",
        "\n",
        "Por tanto, tenemos que $z_{\\frac{α}{2}} = z_{0.025} = {𝛟}^{-1}(1-0-025)=1.96$\n",
        "\n",
        "Tambien tenemos que ${\\sigma} = 4$. Por lo tanto, la aproximación para el intervalo de confianza es\n",
        "\n",
        "$\\left[\n",
        "  23.5 - 1.96\\frac{4}{\\sqrt{100}}, \\,\n",
        "23.5 + 1.96\\frac{4}{\\sqrt{100}}\n",
        "\\right] \\thickapprox [22.7, 24.3].$\n",
        "\n",
        "Comprobaremos esto usando python:\n"
      ]
    },
    {
      "cell_type": "code",
      "execution_count": null,
      "metadata": {
        "id": "qLRI2_UW6QsO"
      },
      "outputs": [],
      "source": [
        "import numpy as np\n",
        "import numpy.random as npr\n",
        "import scipy.stats as sps\n",
        "import matplotlib.pyplot as plt\n",
        "import random\n",
        "import scipy.stats as st\n",
        "from scipy.stats import norm\n",
        "\n",
        "import warnings\n",
        "warnings.filterwarnings(\"ignore\")"
      ]
    },
    {
      "cell_type": "code",
      "execution_count": null,
      "metadata": {
        "colab": {
          "base_uri": "https://localhost:8080/"
        },
        "id": "tzBd4YAe5-Wz",
        "outputId": "13a84bc0-e886-4077-8385-43d4729da312"
      },
      "outputs": [
        {
          "name": "stdout",
          "output_type": "stream",
          "text": [
            "(22.71601440618398, 24.28398559381602)\n"
          ]
        }
      ],
      "source": [
        "IC = st.norm.interval(0.95, loc=23.5, scale=.4)\n",
        "print(IC)"
      ]
    },
    {
      "cell_type": "markdown",
      "metadata": {
        "id": "TrTzPFIvkxky"
      },
      "source": [
        "### Problema 3\n",
        "\n",
        "Para estimar la proporción de votantes que planean votar por el candidato A en una elección, se utiliza una muestra aleatoria de tamaño $n$ que se elige entre los votantes. El muestreo se realiza con reposición. Sea θ ser la porción de votantes que planean votar por el candidato A entre todos los votantes. ¿Qué tamaño tiene $n$ debe ser para que podamos obtener un 90% intervalo de confianza con 3% ¿margen de error? Es decir, ¿cuán grande es $n$?\n",
        "tiene que ser tal que\n",
        "\n",
        "$$\n",
        "P\\left(\\overline{X}-0.03 \\leq \\theta \\leq \\overline{X}+ 0.03 \\right) \\geq 0.90,\n",
        "$$\n",
        "\n",
        "donde $\\overline{X}$ es la porción de personas en nuestra muestra aleatoria que dicen que planean votar por el candidato A.\n",
        "\n",
        "Aquí:\n",
        "\n",
        "$$\n",
        "\\left[\\overline{X}- \\frac{z_{\\frac{\\alpha}{2}}}{2\\sqrt{n}} , \\overline{X}+ \\frac{z_{\\frac{\\alpha}{2}}}{2\\sqrt{n}}\\right]\n",
        "$$\n",
        "<br>\n",
        "es un intervalo de confianza aproximado $(1-\\alpha)100\\%$.\n",
        "Como $\\alpha = (1-0.90) = 0.1$ tenemos:\n",
        "\n",
        "<br>\n",
        "\n",
        "$$\n",
        "z_{\\frac{\\alpha}{2}}=z_{\\frac{0.1}{2}}=z_{0.05}=\\Phi^{-1}(1-0.05)=\\Phi^{-1}(0.95)=1.645\n",
        "$$\n",
        "\n",
        "necesitamos tener un intervalo de confianza de $3\\%$, tenemos que\n",
        "\n",
        "$$\n",
        "\\frac{1.645}{2\\sqrt{n}}=0.03\n",
        "$$\n",
        "\n",
        "Por lo tanto, despejamos a $n$ y tenemos\n",
        "\n",
        "$$\n",
        "n=\\left(\\frac{1.645}{2 \\times 0.03}\\right)^2 = \\left(751.673\\right) \\sim 752\n",
        "$$\n",
        "\n",
        "Por lo tanto, se necesita un tamaño de muestra de aproximadamente 752 votantes para lograr un intervalo de confianza del 90% con un intervalo de confianza de 3%."
      ]
    },
    {
      "cell_type": "code",
      "execution_count": 6,
      "metadata": {
        "colab": {
          "base_uri": "https://localhost:8080/"
        },
        "id": "W9tMexfyk3Au",
        "outputId": "1f019ec9-e869-466f-e967-f04b0469f970"
      },
      "outputs": [
        {
          "name": "stdout",
          "output_type": "stream",
          "text": [
            "1.6448536269514722\n",
            "n >=752\n"
          ]
        }
      ],
      "source": [
        "# calculate z score for 90 percent\n",
        "import scipy.stats as st\n",
        "from math import ceil\n",
        "z = st.norm.ppf(1 - (1 - 0.9) / 2)\n",
        "print(z)\n",
        "\n",
        "ME = 0.03 # margen de error\n",
        "\n",
        "# 0.5 para maximo tamaño de error\n",
        "p = 0.5\n",
        "\n",
        "# calculamos el tamaño de la muestra\n",
        "n = ceil((z/(2*ME))**2)\n",
        "\n",
        "print(\"n >=\" + str(n))"
      ]
    },
    {
      "cell_type": "markdown",
      "metadata": {
        "id": "P259lJDnlFMA"
      },
      "source": [
        "###Problema 4\n",
        "\n",
        "a. Sea $ X $ una variable aleatoria tal que $\\mathbb{R}_X \\subseteq [a,bc$, es decir, siempre tenemos $a \\leq X \\leq b $. Demuestra que\n",
        "\n",
        "$\\text{Var}(X) \\leq \\frac{(b-a)^2}{4}. \\$\n",
        "\n",
        "b. Sean $ X_1, X_2, X_3, \\ldots, X_n$ una muestra aleatoria de una distribución desconocida con función de distribución acumulativa $F_X(x) $ tal que ${R}_X \\subseteq [a,b]$. Específicamente, $E(X)$ y $ \\text{Var}(X)$ son desconocidos. Encuentra un intervalo de confianza del $(1-\\alpha) $100\\%  para  $\\theta = E(X)$. Supón que \\( n \\) es grande.\n",
        "\n",
        "a. Define $Y = \\frac{X - a + b}{2}$.Así, ${R}_Y \\subseteq \\left[ -\\frac{b-a}{2}, \\frac{b-a}{2} \\right]$ \\. Entonces,\n",
        "\n",
        "$\\text{Var}(X) = \\text{Var}(Y) = E[Y^2] - \\mu_Y^2 \\leq E[Y^2] \\leq \\left( \\frac{b-a}{2} \\right)^2 \\quad \\text{(ya que } Y^2 \\leq \\left( \\frac{b-a}{2} \\right)^2 \\text{)} = \\frac{(b-a)^2}{4}.$\n",
        "\n",
        "b. Aquí tenemos un límite superior en $\\sigma$, que es $\\sigma_{\\text{max}} = \\left( \\frac{b-a}{2} \\right)^2$. Por lo tanto, el intervalo\n",
        "$\\left[ \\bar{X} - z_{\\alpha/2} \\frac{\\sigma_{\\text{max}}}{\\sqrt{n}}, \\bar{X} + z_{\\alpha/2} \\frac{\\sigma_{\\text{max}}}{\\sqrt{n}} \\right]$\n",
        "es un intervalo de confianza del $(1-\\alpha)\\ 100\\% \\  para \\ \\theta$. Más específicamente,\n",
        "$[ \\left[ \\bar{X} - z_{\\alpha/2} \\frac{\\sqrt{b-a}}{2\\sqrt{n}}, \\bar{X} + z_{\\alpha/2} \\frac{\\sqrt{b-a}}{2\\sqrt{n}} \\right]$\n",
        "es un intervalo de confianza del $(1-\\alpha) \\ 100\\% \\ para \\ \\theta$."
      ]
    },
    {
      "cell_type": "markdown",
      "metadata": {
        "id": "x5fbEdinUGdA"
      },
      "source": [
        "###Problema 5\n",
        "\n",
        "Se tiene una muestra aleatoria $\\quad X_{1}, X_2, X_3, \\ldots, X_{144} $ de una distribución con varianza desconocida $\\text{Var}(X_i) = \\sigma^2$. Para la muestra observada, la media muestral es $\\bar{X} = 55.2$ y la varianza muestral es $ S^2 = 34.5 $. Encuentre un intervalo de confianza del 99\\% para $\\theta = E(X_i)$."
      ]
    },
    {
      "cell_type": "code",
      "execution_count": null,
      "metadata": {
        "colab": {
          "base_uri": "https://localhost:8080/"
        },
        "id": "gC0Tr9KNX759",
        "outputId": "318b3035-4fbe-46c1-9860-df5aba1d81f0"
      },
      "outputs": [
        {
          "name": "stdout",
          "output_type": "stream",
          "text": [
            "Cuantil t para alpha/2 = 0.005 y 143 grados de libertad: 2.61\n"
          ]
        }
      ],
      "source": [
        "from scipy.stats import t\n",
        "alpha = 0.01\n",
        "df = 144 - 1  # Grados de libertad\n",
        "\n",
        "# Calcular el cuantil t para alpha/2 = 0.005 y df grados de libertad\n",
        "t_quantile = t.ppf(1 - alpha/2, df)\n",
        "\n",
        "print(f\"Cuantil t para alpha/2 = {alpha/2} y {df} grados de libertad: {t_quantile:.2f}\")"
      ]
    },
    {
      "cell_type": "markdown",
      "metadata": {
        "id": "HeQwA8-dcLMI"
      },
      "source": [
        "El intervalo de confianza del 99\\% para la media poblacional $\\theta$, basado en la muestra, se calcula como:\n",
        "\n",
        "$\\left[ \\bar{X} - Z{\\frac{\\alpha}{2},} \\cdot \\frac{S}{\\sqrt{n}}, \\bar{X} + Z{\\frac{\\alpha}{2}} \\cdot \\frac{S}{\\sqrt{n}} \\right]$\n",
        "\n",
        "donde:\n",
        "\n",
        "  * $ \\bar{X} = 55.2 $ es la media muestral,\n",
        "\n",
        "  * $ S = \\sqrt{S^2} = \\sqrt{34.5} \\approx 5.87$ es la desviación estándar muestral,\n",
        "\n",
        "  * n = 144 es el tamaño de la muestra,\n",
        "\n",
        "  * $df = n - 1 = 144 - 1 = 143$ son los grados de libertad.\n",
        "\n",
        "Calculando el cuantil de la distribución t para $ \\alpha/2 = 0.005 $ y $df = 143 $:\n",
        "\n",
        "$ t_{0.005, \\, 143} \\approx 2.6171$\n",
        "Sustituyendo los valores:\n",
        "\n",
        "$ \\left[ 55.2 - 2.6171 \\cdot \\frac{5.87}{\\sqrt{144}} \\, 55.2 + 2.6171 \\cdot \\frac{5.87}{\\sqrt{144}} \\right] \\$\n",
        "\n",
        "Calculamos $( \\frac{5.87}{\\sqrt{144}} \\approx 0.4872 )$:\n",
        "\n",
        "$\\left[ 55.2 - 1.2751 \\, 55.2 + 1.2751 \\right] \\$\n",
        "\n",
        "$\\left[ 53.9249, \\, 56.4751 \\right]$\n",
        "\n",
        "Por lo tanto, el intervalo de confianza del 99\\% para $\\theta$ es aproximadamente $ [53.92, \\, 56.48] $.\n",
        "\n"
      ]
    },
    {
      "cell_type": "markdown",
      "metadata": {
        "id": "ASMPlPfsk9uW"
      },
      "source": [
        "###Problema 6\n",
        "\n",
        "A random sample $\\quad X_{1}, X_{2}, X_{3}, \\ldots, X_{16} $\n",
        " is given from a normal distribution with unknown mean $\\mu=E[Xi]$\n",
        " and unknown variance $Var(Xi)=\\sigma^2$\n",
        ". For the observed sample, the sample mean is $\\overline{X}=16.7$\n",
        ", and the sample variance is $S^2=7.5$\n",
        ".\n",
        "\n",
        "Find a 95%\n",
        " confidence interval for $\\mu$\n",
        "\n",
        "Find a 95%\n",
        " confidence interval for $\\sigma^2$\n",
        "\n",
        "##a. Intervalo de Confianza de Mu\n",
        " Aquí, el intervalo\n",
        "\n",
        "\n",
        "$\\left[\n",
        "\\overline{X} - t_{\\frac{\\alpha}{2}, n-1} \\frac{S}{\\sqrt{n}}, \\,\n",
        "\\overline{X} + t_{\\frac{\\alpha}{2}, n-1} \\frac{S}{\\sqrt{n}}\n",
        "\\right]$\n",
        "\n",
        "es un intervalo de confianza del $(1 - \\alpha)100\\%$ para $\\mu$. Sea $n = 16, \\alpha = 0.05$, entonces\n",
        "\n",
        "$t_{0.025, 15} \\approx 2.13$"
      ]
    },
    {
      "cell_type": "code",
      "execution_count": null,
      "metadata": {
        "colab": {
          "base_uri": "https://localhost:8080/"
        },
        "id": "yDzJ-AVsI7GE",
        "outputId": "c350dbf7-5f6d-436e-e6c4-f30df08ecad3"
      },
      "outputs": [
        {
          "name": "stdout",
          "output_type": "stream",
          "text": [
            "Valor crítico de t para un 95% de confianza y 15 grados de libertad: 2.131449545559323\n"
          ]
        }
      ],
      "source": [
        "from scipy.stats import t\n",
        "\n",
        "\n",
        "#Calculo de la t0.025,15\n",
        "\n",
        "# Grados de libertad\n",
        "df = 15\n",
        "\n",
        "# Nivel de confianza (95%)\n",
        "confidence_level = 0.95\n",
        "\n",
        "# Valor crítico de t\n",
        "t_critical = t.ppf((1 + confidence_level) / 2, df)\n",
        "\n",
        "print(\"Valor crítico de t para un 95% de confianza y 15 grados de libertad:\", t_critical)\n",
        "\n"
      ]
    },
    {
      "cell_type": "code",
      "execution_count": null,
      "metadata": {
        "colab": {
          "base_uri": "https://localhost:8080/"
        },
        "id": "wADXuo7VJ7S8",
        "outputId": "7c5b9721-fca1-4cdb-e15b-d1af58736c94"
      },
      "outputs": [
        {
          "name": "stdout",
          "output_type": "stream",
          "text": [
            "Intervalo de confianza para Mu: (15.240696254641279, 18.15930374535872)\n"
          ]
        }
      ],
      "source": [
        "import math\n",
        "\n",
        "#Calculo del intervalo de confianza para Mu\n",
        "\n",
        "intervalo_mu = (16.7 - t_critical * (math.sqrt(7.5) / 4)) , (16.7 + t_critical * (math.sqrt(7.5) / 4))\n",
        "print(\"Intervalo de confianza para Mu:\", intervalo_mu)"
      ]
    },
    {
      "cell_type": "markdown",
      "metadata": {
        "id": "jb-IxIaHLKBi"
      },
      "source": [
        "Entonces, podemos obtener un intervalo de confianza del $95\\%$ para $\\mu$ como\n",
        "\n",
        "$\\left[\n",
        "16.7 - 2.13 \\frac{\\sqrt{7.5}}{4}, \\,\n",
        "16.7 + 2.13 \\frac{\\sqrt{7.5}}{4}\n",
        "\\right]\n",
        "\\approx [15.24, 18.16]$\n",
        "\n",
        "###Por lo tanto, $[15.24, 18.16]$ es un intervalo de confianza del $95\\%$ para $\\mu$"
      ]
    },
    {
      "cell_type": "markdown",
      "metadata": {
        "id": "IykPi-yWL01a"
      },
      "source": [
        "##b. Intervalo de confianza para sigma cuadrada\n",
        "\n",
        "Sabemos que, $\\left[\n",
        "\\frac{(n-1)S^2}{\\chi^2_{\\frac{\\alpha}{2}, n-1}}, \\,\n",
        "\\frac{(n-1)S^2}{\\chi^2_{1-\\frac{\\alpha}{2}, n-1}}\n",
        "\\right]$ es un intervalo de confianza del $(1 - \\alpha)100\\%$ para $\\sigma^2$. En este problema, $n = 16$, $\\alpha = 0.05$, así que necesitamos calcular\n",
        "\n",
        "$\\chi^2_{0.025, 15} \\approx 27.49, \\, \\chi^2_{0.975, 15} \\approx 6.26$"
      ]
    },
    {
      "cell_type": "code",
      "execution_count": null,
      "metadata": {
        "colab": {
          "base_uri": "https://localhost:8080/"
        },
        "id": "nqoBCR8ZLilv",
        "outputId": "246f247b-bd03-4302-c1fc-86ef68ccd8f3"
      },
      "outputs": [
        {
          "name": "stdout",
          "output_type": "stream",
          "text": [
            "Valor crítico de chi-cuadrada para un 95% de confianza y 15 grados de libertad:\n",
            "Límite inferior: 6.262137795043253\n",
            "Límite superior: 27.488392863442975\n"
          ]
        }
      ],
      "source": [
        "from scipy.stats import chi2\n",
        "\n",
        "#Calculo de las Chi Cuadradas\n",
        "\n",
        "# Grados de libertad\n",
        "df = 15\n",
        "\n",
        "# Nivel de confianza (95%)\n",
        "confidence_level = 0.95\n",
        "\n",
        "# Valor crítico de chi-cuadrada en el límite inferior\n",
        "chi2_lower = chi2.ppf((1 - confidence_level) / 2, df)\n",
        "\n",
        "# Valor crítico de chi-cuadrada en el límite superior\n",
        "chi2_upper = chi2.ppf(1 - (1 - confidence_level) / 2, df)\n",
        "\n",
        "print(\"Valor crítico de chi-cuadrada para un 95% de confianza y 15 grados de libertad:\")\n",
        "print(\"Límite inferior:\", chi2_lower)\n",
        "print(\"Límite superior:\", chi2_upper)"
      ]
    },
    {
      "cell_type": "code",
      "execution_count": null,
      "metadata": {
        "colab": {
          "base_uri": "https://localhost:8080/"
        },
        "id": "BcIFe4IVQBrR",
        "outputId": "d41f3cbe-8cd3-4c9f-8be9-33f5f73e26a8"
      },
      "outputs": [
        {
          "name": "stdout",
          "output_type": "stream",
          "text": [
            "Intervalo de confianza para Sigma cuadrada es: (4.092636501481853, 17.965110906541934)\n"
          ]
        }
      ],
      "source": [
        "#Calculo del intervalo de confianza para sigma cuadrada\n",
        "\n",
        "intervalo_sigma_2 = ((15*7.5)/chi2_upper) , ((15*7.5)/chi2_lower)\n",
        "print(\"Intervalo de confianza para Sigma cuadrada es:\", intervalo_sigma_2)"
      ]
    },
    {
      "cell_type": "markdown",
      "metadata": {
        "id": "07HrlaHkO7vO"
      },
      "source": [
        "Entonces, podemos obtener un intervalo de confianza del $95\\%$ para $\\sigma^2$ como\n",
        "\n",
        "$\\left[\n",
        "\\frac{(n-1)S^2}{\\chi^2_{0.025, 15}}, \\,\n",
        "\\frac{(n-1)S^2}{\\chi^2_{0.975, 15}}\n",
        "\\right]=\n",
        "\\left[\n",
        "\\frac{15 \\times 7.5}{27.49}, \\,\n",
        "\\frac{15 \\times 7.5}{6.26}\n",
        "\\right]\n",
        "\\approx [4.09, 17.97]$\n",
        "\n",
        "###Por lo tanto, $[4.09, 17.97]$ es un intervalo de confianza del $95\\%$ para $\\sigma^2$"
      ]
    },
    {
      "cell_type": "markdown",
      "metadata": {
        "id": "ms0jqdmFOuBY"
      },
      "source": []
    }
  ],
  "metadata": {
    "colab": {
      "provenance": []
    },
    "kernelspec": {
      "display_name": "Python 3",
      "name": "python3"
    },
    "language_info": {
      "name": "python"
    }
  },
  "nbformat": 4,
  "nbformat_minor": 0
}
