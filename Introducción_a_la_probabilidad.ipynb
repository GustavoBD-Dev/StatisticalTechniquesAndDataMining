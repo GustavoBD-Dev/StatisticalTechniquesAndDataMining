{
  "nbformat": 4,
  "nbformat_minor": 0,
  "metadata": {
    "colab": {
      "provenance": [],
      "authorship_tag": "ABX9TyNj1WNk8oJzxSVdT8MgCBW2",
      "include_colab_link": true
    },
    "kernelspec": {
      "name": "python3",
      "display_name": "Python 3"
    },
    "language_info": {
      "name": "python"
    }
  },
  "cells": [
    {
      "cell_type": "markdown",
      "metadata": {
        "id": "view-in-github",
        "colab_type": "text"
      },
      "source": [
        "<a href=\"https://colab.research.google.com/github/GustavoBD-Dev/StatisticalTechniquesAndDataMining/blob/main/Introducci%C3%B3n_a_la_probabilidad.ipynb\" target=\"_parent\"><img src=\"https://colab.research.google.com/assets/colab-badge.svg\" alt=\"Open In Colab\"/></a>"
      ]
    },
    {
      "cell_type": "markdown",
      "source": [
        "# Probabilidad Clásica"
      ],
      "metadata": {
        "id": "AsZlar_-hPDy"
      }
    },
    {
      "cell_type": "markdown",
      "source": [
        "#### Conceptos basicos de Python"
      ],
      "metadata": {
        "id": "z4Id470wig6Z"
      }
    },
    {
      "cell_type": "markdown",
      "source": [
        "La función de piso : Si $x \\in \\mathbb{R}$\n"
      ],
      "metadata": {
        "id": "785Q0GyQmMQ8"
      }
    },
    {
      "cell_type": "markdown",
      "source": [
        "**Ingreso a elementos**\n",
        "\n",
        "Si tenemos una lista\n",
        "\n",
        "$$L =[e_{1}, e_{2}, \\dots, e_{n}]$$\n",
        "\n",
        "entonces, si queremos ingresar al $e_{i}$ elemento:\n",
        "$$L[i-1]$$\n",
        "\n"
      ],
      "metadata": {
        "id": "cVdRNhD_r-th"
      }
    },
    {
      "cell_type": "markdown",
      "source": [
        "**Generador de indices**\n",
        "\n",
        "`range`es un generador de indices\n",
        "\n",
        "```\n",
        "range(10)\n",
        "```\n",
        "\n",
        " obtenemos un rango de 0 a 10\n",
        "\n",
        " $$\\{0,1,2,3,4,5,6,7,8,9\\}$$\n",
        "\n"
      ],
      "metadata": {
        "id": "I3iLEnzxtAJe"
      }
    },
    {
      "cell_type": "markdown",
      "source": [
        "## Modelo clásico Laplaciano"
      ],
      "metadata": {
        "id": "dFM-hl_jp539"
      }
    },
    {
      "cell_type": "markdown",
      "source": [
        "### Ejemplo: Lanzamiento de 3 monedas.\n"
      ],
      "metadata": {
        "id": "ExZlyYUaqBS6"
      }
    },
    {
      "cell_type": "markdown",
      "source": [
        "\n",
        "Se tiene el siguiente experimento aleatorio. Se lanzan de manera independiente 3 monedas.\n",
        "\n",
        "El espacio muestral es:\n",
        "\n",
        "$$\\Omega= \\{A, S\\} \\times \\{A, S\\} \\times \\{A, S\\}$$\n",
        "\n",
        "$$\\text{card}({\\Omega})=2^3=8$$\n",
        "\n",
        "Tenemos\n",
        "$${F}=p(\\Omega)$$\n",
        "$$\\text car({F})=2^8$$\n",
        "\n",
        "$\\color{green} {Definición \\ de \\ probabilidad \\ clásica \\ (modelo \\ laplaciano)}$.\n",
        "\n",
        "Si $E$ es un evento, la función de probabilidad:\n",
        "\n",
        "$$\\mathbb{P}(E)=\\frac{\\text{card}(E)}{\\text{card}(\\Omega)}$$"
      ],
      "metadata": {
        "id": "iAJHMLkRs2wq"
      }
    },
    {
      "cell_type": "code",
      "source": [
        "# hay 256 posibles eventos\n",
        "2**8"
      ],
      "metadata": {
        "colab": {
          "base_uri": "https://localhost:8080/"
        },
        "id": "MLG0IPITjOp2",
        "outputId": "dfa2b65c-969c-4556-b106-3e56498b2843"
      },
      "execution_count": null,
      "outputs": [
        {
          "output_type": "execute_result",
          "data": {
            "text/plain": [
              "256"
            ]
          },
          "metadata": {},
          "execution_count": 1
        }
      ]
    },
    {
      "cell_type": "code",
      "source": [
        "# codigo para Omega\n",
        "\n",
        "import itertools\n",
        "from itertools import product\n",
        "\n",
        "# creamos el producto cartesiano de Omega\n",
        "Omega = set(product({\"A\", \"S\"}, repeat=3))\n",
        "Omega"
      ],
      "metadata": {
        "colab": {
          "base_uri": "https://localhost:8080/"
        },
        "id": "N22B2HDuynA8",
        "outputId": "60a657c1-4f3f-4284-c0bd-cad4ec05a26d"
      },
      "execution_count": null,
      "outputs": [
        {
          "output_type": "execute_result",
          "data": {
            "text/plain": [
              "{('A', 'A', 'A'),\n",
              " ('A', 'A', 'S'),\n",
              " ('A', 'S', 'A'),\n",
              " ('A', 'S', 'S'),\n",
              " ('S', 'A', 'A'),\n",
              " ('S', 'A', 'S'),\n",
              " ('S', 'S', 'A'),\n",
              " ('S', 'S', 'S')}"
            ]
          },
          "metadata": {},
          "execution_count": 20
        }
      ]
    },
    {
      "cell_type": "code",
      "source": [
        "len(Omega) # cadinalidad de omega"
      ],
      "metadata": {
        "colab": {
          "base_uri": "https://localhost:8080/"
        },
        "id": "Ib_ds-Xjz6q3",
        "outputId": "38e4ca5b-1f26-4e65-fe59-7f145db078ef"
      },
      "execution_count": null,
      "outputs": [
        {
          "output_type": "execute_result",
          "data": {
            "text/plain": [
              "8"
            ]
          },
          "metadata": {},
          "execution_count": 21
        }
      ]
    },
    {
      "cell_type": "code",
      "source": [
        "T = {'A', 'A', 'A'}"
      ],
      "metadata": {
        "id": "Hn_aq1VE6ttr"
      },
      "execution_count": null,
      "outputs": []
    },
    {
      "cell_type": "code",
      "source": [
        "T"
      ],
      "metadata": {
        "colab": {
          "base_uri": "https://localhost:8080/"
        },
        "id": "QLHWSteJjl8R",
        "outputId": "7615fa87-5638-4fef-f6fd-4d3a8e95f2e6"
      },
      "execution_count": null,
      "outputs": [
        {
          "output_type": "execute_result",
          "data": {
            "text/plain": [
              "{'A'}"
            ]
          },
          "metadata": {},
          "execution_count": 23
        }
      ]
    },
    {
      "cell_type": "markdown",
      "source": [
        "Consideramos los siguientes eventos:\n",
        "\n",
        "1. A: todas las caras sean águilas.\n",
        "2. S: todas las caras sean soles.\n",
        "3. E: por lo menos una cara sea sol.\n",
        "\n",
        "Vamos a contestar la primer pregunta:\n",
        "\n",
        "Llamemos como $A_i$ al evento en donde cae águila en el $i$-ésimo resultado.\n",
        "\n",
        "\n",
        "Así:\n",
        "\n",
        "$$A = A_1 \\cap A_2 \\cap A_3$$."
      ],
      "metadata": {
        "id": "pT8utOL3j7qo"
      }
    },
    {
      "cell_type": "code",
      "source": [
        "# creamos nuestro primer evento\n",
        "A_1 = {om for om in Omega if om[0] == \"A\"}\n",
        "A_1"
      ],
      "metadata": {
        "colab": {
          "base_uri": "https://localhost:8080/"
        },
        "id": "6Gf45JoLkum_",
        "outputId": "5aeec6f7-4079-4757-a82f-8227817b6c1e"
      },
      "execution_count": null,
      "outputs": [
        {
          "output_type": "execute_result",
          "data": {
            "text/plain": [
              "{('A', 'A', 'A'), ('A', 'A', 'S'), ('A', 'S', 'A'), ('A', 'S', 'S')}"
            ]
          },
          "metadata": {},
          "execution_count": 25
        }
      ]
    },
    {
      "cell_type": "code",
      "source": [
        "# creamos nuestro segundo evento\n",
        "A_2 = {om for om in Omega if om[1] == \"A\"}\n",
        "A_2"
      ],
      "metadata": {
        "colab": {
          "base_uri": "https://localhost:8080/"
        },
        "id": "uVit-TSAk3C3",
        "outputId": "0a64219b-ab32-4356-ee00-dfe100441365"
      },
      "execution_count": null,
      "outputs": [
        {
          "output_type": "execute_result",
          "data": {
            "text/plain": [
              "{('A', 'A', 'A'), ('A', 'A', 'S'), ('S', 'A', 'A'), ('S', 'A', 'S')}"
            ]
          },
          "metadata": {},
          "execution_count": 26
        }
      ]
    },
    {
      "cell_type": "code",
      "source": [
        "A_3 = {om for om in Omega if om[2] == \"A\"}\n",
        "A_3"
      ],
      "metadata": {
        "id": "BhxOJvIJ1rMH",
        "colab": {
          "base_uri": "https://localhost:8080/"
        },
        "outputId": "1feca9a8-6fbc-4c34-ab63-4c82b831d928"
      },
      "execution_count": null,
      "outputs": [
        {
          "output_type": "execute_result",
          "data": {
            "text/plain": [
              "{('A', 'A', 'A'), ('A', 'S', 'A'), ('S', 'A', 'A'), ('S', 'S', 'A')}"
            ]
          },
          "metadata": {},
          "execution_count": 27
        }
      ]
    },
    {
      "cell_type": "markdown",
      "source": [
        "Usamos la función `intersection` de Python."
      ],
      "metadata": {
        "id": "yK-NTK1WlPO2"
      }
    },
    {
      "cell_type": "code",
      "source": [
        " # interseccion de los eventos A_1 ∩ A_2 ∩ A_3\n",
        "A = A_1.intersection(A_2).intersection(A_3)\n",
        "A"
      ],
      "metadata": {
        "id": "GPiw8ANX6qba",
        "colab": {
          "base_uri": "https://localhost:8080/"
        },
        "outputId": "7823af7f-3e36-4d2d-bbdc-c0e7801c6b74"
      },
      "execution_count": null,
      "outputs": [
        {
          "output_type": "execute_result",
          "data": {
            "text/plain": [
              "{('A', 'A', 'A')}"
            ]
          },
          "metadata": {},
          "execution_count": 30
        }
      ]
    },
    {
      "cell_type": "code",
      "source": [
        "P_A = len (A)/len(Omega) # Probabilidad de que suceda \"A\": funcion de probabilidad\n",
        "P_A"
      ],
      "metadata": {
        "colab": {
          "base_uri": "https://localhost:8080/"
        },
        "id": "IelLEM2qlln2",
        "outputId": "a6f70a12-741c-4617-98db-02db59b64ffd"
      },
      "execution_count": null,
      "outputs": [
        {
          "output_type": "execute_result",
          "data": {
            "text/plain": [
              "0.125"
            ]
          },
          "metadata": {},
          "execution_count": 31
        }
      ]
    },
    {
      "cell_type": "code",
      "source": [
        "A = {om for om in Omega if om.count(\"A\") == 3}\n",
        "A"
      ],
      "metadata": {
        "id": "9HcS0XgR8hm2",
        "colab": {
          "base_uri": "https://localhost:8080/"
        },
        "outputId": "e4f23ab6-73bf-412c-bcb5-044d2cfb07c2"
      },
      "execution_count": null,
      "outputs": [
        {
          "output_type": "execute_result",
          "data": {
            "text/plain": [
              "{('A', 'A', 'A')}"
            ]
          },
          "metadata": {},
          "execution_count": 32
        }
      ]
    },
    {
      "cell_type": "markdown",
      "source": [
        "Creación de funciones (globales).\n",
        "\n",
        "* Función que calcula la probabilidad dentro de un espacio muestral en el contexto clásico."
      ],
      "metadata": {
        "id": "cI3isKqTmMf0"
      }
    },
    {
      "cell_type": "code",
      "source": [
        "from fractions import Fraction\n",
        "\n",
        "def P(E, Omega):\n",
        "  return Fraction(len(E), len(Omega))\n",
        "\n",
        "P(A, Omega)\n"
      ],
      "metadata": {
        "id": "oYiPFf6O-n6H",
        "colab": {
          "base_uri": "https://localhost:8080/"
        },
        "outputId": "90cbba4d-0696-4240-920f-822f0783333d"
      },
      "execution_count": null,
      "outputs": [
        {
          "output_type": "execute_result",
          "data": {
            "text/plain": [
              "Fraction(1, 8)"
            ]
          },
          "metadata": {},
          "execution_count": 33
        }
      ]
    },
    {
      "cell_type": "markdown",
      "source": [
        "* Probabilidad de que el todas las caras sean soles"
      ],
      "metadata": {
        "id": "cwscKLYlnYmG"
      }
    },
    {
      "cell_type": "code",
      "source": [
        "S = {om for om in Omega if om.count(\"S\")>=3}\n",
        "S"
      ],
      "metadata": {
        "colab": {
          "base_uri": "https://localhost:8080/"
        },
        "id": "lU9S_NvDmq0f",
        "outputId": "aea250a3-d461-4649-888c-54bec6857d96"
      },
      "execution_count": null,
      "outputs": [
        {
          "output_type": "execute_result",
          "data": {
            "text/plain": [
              "{('S', 'S', 'S')}"
            ]
          },
          "metadata": {},
          "execution_count": 39
        }
      ]
    },
    {
      "cell_type": "code",
      "source": [
        "P(S,Omega)"
      ],
      "metadata": {
        "colab": {
          "base_uri": "https://localhost:8080/"
        },
        "id": "H7ZIoWAbms_i",
        "outputId": "6d7a54da-37fa-491b-c245-920ee3a31a5b"
      },
      "execution_count": null,
      "outputs": [
        {
          "output_type": "execute_result",
          "data": {
            "text/plain": [
              "Fraction(1, 8)"
            ]
          },
          "metadata": {},
          "execution_count": 40
        }
      ]
    },
    {
      "cell_type": "markdown",
      "source": [
        "* Obtener al menos un águila y al menos un sol."
      ],
      "metadata": {
        "id": "fd4eobELm-fI"
      }
    },
    {
      "cell_type": "code",
      "source": [
        "F = {om for om in Omega if ((om.count(\"A\")>=1) and (om.count(\"S\")>=1))}\n",
        "F"
      ],
      "metadata": {
        "id": "WJFKE1AlErGF",
        "colab": {
          "base_uri": "https://localhost:8080/"
        },
        "outputId": "ed909586-5564-49fb-811e-281940088604"
      },
      "execution_count": null,
      "outputs": [
        {
          "output_type": "execute_result",
          "data": {
            "text/plain": [
              "{('A', 'A', 'S'),\n",
              " ('A', 'S', 'A'),\n",
              " ('A', 'S', 'S'),\n",
              " ('S', 'A', 'A'),\n",
              " ('S', 'A', 'S'),\n",
              " ('S', 'S', 'A')}"
            ]
          },
          "metadata": {},
          "execution_count": 41
        }
      ]
    },
    {
      "cell_type": "code",
      "source": [
        "P(F, Omega)"
      ],
      "metadata": {
        "id": "zppPFQGXE7Q0",
        "colab": {
          "base_uri": "https://localhost:8080/"
        },
        "outputId": "9b5e2070-2976-4c89-f07f-ab830518c95e"
      },
      "execution_count": null,
      "outputs": [
        {
          "output_type": "execute_result",
          "data": {
            "text/plain": [
              "Fraction(3, 4)"
            ]
          },
          "metadata": {},
          "execution_count": 42
        }
      ]
    }
  ]
}