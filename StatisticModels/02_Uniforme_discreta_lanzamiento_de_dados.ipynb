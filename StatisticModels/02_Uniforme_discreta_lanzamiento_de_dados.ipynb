{
  "nbformat": 4,
  "nbformat_minor": 0,
  "metadata": {
    "colab": {
      "provenance": [],
      "authorship_tag": "ABX9TyPQQZv6mIp0zzTg33IbgGMp",
      "include_colab_link": true
    },
    "kernelspec": {
      "name": "python3",
      "display_name": "Python 3"
    },
    "language_info": {
      "name": "python"
    }
  },
  "cells": [
    {
      "cell_type": "markdown",
      "metadata": {
        "id": "view-in-github",
        "colab_type": "text"
      },
      "source": [
        "<a href=\"https://colab.research.google.com/github/GustavoBD-Dev/StatisticalTechniquesAndDataMining/blob/main/02_Uniforme_discreta_lanzamiento_de_dados.ipynb\" target=\"_parent\"><img src=\"https://colab.research.google.com/assets/colab-badge.svg\" alt=\"Open In Colab\"/></a>"
      ]
    },
    {
      "cell_type": "markdown",
      "source": [
        "# Lanzamiento de dos dados\n"
      ],
      "metadata": {
        "id": "KYfcDvGZ8y6k"
      }
    },
    {
      "cell_type": "markdown",
      "source": [
        "## Diccionarios en Python\n",
        "\n",
        "$$\\{key : values \\}$$"
      ],
      "metadata": {
        "id": "yo0cVUHXqre_"
      }
    },
    {
      "cell_type": "code",
      "execution_count": null,
      "metadata": {
        "id": "XXVZVTbL7Jov"
      },
      "outputs": [],
      "source": [
        "d = {\n",
        "      \"Gustavo\": [\"Masha\", \"Mila\", \"Sneg\"],\n",
        "      \"Blas\": [11, 3, 99],\n",
        "      \"Duran\":[0.8, 0.6, 0.24]\n",
        "      }"
      ]
    },
    {
      "cell_type": "code",
      "source": [
        "d"
      ],
      "metadata": {
        "colab": {
          "base_uri": "https://localhost:8080/"
        },
        "id": "HXkHUSJi_Orl",
        "outputId": "32819a34-c0bb-4707-da6d-0d01cdc9257c"
      },
      "execution_count": null,
      "outputs": [
        {
          "output_type": "execute_result",
          "data": {
            "text/plain": [
              "{'Gustavo': ['Masha', 'Mila', 'Sneg'],\n",
              " 'Blas': [11, 3, 99],\n",
              " 'Duran': [0.8, 0.6, 0.24]}"
            ]
          },
          "metadata": {},
          "execution_count": 2
        }
      ]
    },
    {
      "cell_type": "code",
      "source": [
        "d.keys()"
      ],
      "metadata": {
        "colab": {
          "base_uri": "https://localhost:8080/"
        },
        "id": "_zRszX7p_Rba",
        "outputId": "f207be5f-f150-430e-ecc7-2af058b5f948"
      },
      "execution_count": null,
      "outputs": [
        {
          "output_type": "execute_result",
          "data": {
            "text/plain": [
              "dict_keys(['Gustavo', 'Blas', 'Duran'])"
            ]
          },
          "metadata": {},
          "execution_count": 3
        }
      ]
    },
    {
      "cell_type": "code",
      "source": [
        "d.values()"
      ],
      "metadata": {
        "colab": {
          "base_uri": "https://localhost:8080/"
        },
        "id": "Xtua544V_S7l",
        "outputId": "27d55783-b248-4109-9658-34613ffc23f1"
      },
      "execution_count": null,
      "outputs": [
        {
          "output_type": "execute_result",
          "data": {
            "text/plain": [
              "dict_values([['Masha', 'Mila', 'Sneg'], [11, 3, 99], [0.8, 0.6, 0.24]])"
            ]
          },
          "metadata": {},
          "execution_count": 4
        }
      ]
    },
    {
      "cell_type": "code",
      "source": [
        "d.items()"
      ],
      "metadata": {
        "colab": {
          "base_uri": "https://localhost:8080/"
        },
        "id": "5s4Optdf_Uht",
        "outputId": "4134f7bb-d9b6-403b-b894-1ae7603e1c5f"
      },
      "execution_count": null,
      "outputs": [
        {
          "output_type": "execute_result",
          "data": {
            "text/plain": [
              "dict_items([('Gustavo', ['Masha', 'Mila', 'Sneg']), ('Blas', [11, 3, 99]), ('Duran', [0.8, 0.6, 0.24])])"
            ]
          },
          "metadata": {},
          "execution_count": 5
        }
      ]
    },
    {
      "cell_type": "markdown",
      "source": [
        "## Se lanzan dos dados juntos:"
      ],
      "metadata": {
        "id": "Nqf50Ua42h4c"
      }
    },
    {
      "cell_type": "markdown",
      "source": [
        "\n",
        "- $\\Omega = \\{1,2,3,4,5,6\\}\\times \\{1,2,3,4,5,6 \\}$.\n",
        "- $\\ {F}=p(\\Omega)$.\n",
        "- Para $\\omega=(i,j)$ donde $i, j=1,\\dots, 6$\n",
        "$$\\mathbb{P}(\\{\\omega\\})=\\frac{1}{36}.$$\n",
        "\n",
        "-----\n",
        "\n",
        "## Vamos a definir a la siguiente variable aleatoria:\n",
        "$S$ es la variable aleatoria que cuenta la suma de las caras de los dados.\n",
        "\n",
        "$$S:\\Omega \\to R_{S}=\\{2, 3, 4, 5, 6, 7, 8, 9, 10, 11, 12 \\}$$\n",
        "\n",
        "\n",
        "Para entender a la ley de la variable aleatoria, basta con entender a los siguientes datos:\n",
        "$$\\{(k, \\mathbb{P}(S=k)) \\}_{k\\in R_{S}}.$$\n",
        "\n",
        "\n",
        "Veamos a $S$ como eventos. Sea $S_{n}$ el evento la suma de las caras es $n$."
      ],
      "metadata": {
        "id": "O_JFiPdDq1C4"
      }
    },
    {
      "cell_type": "code",
      "source": [
        "from itertools import product\n",
        "from fractions import Fraction\n",
        "\n",
        "# Definimos la funcion de probabilidad\n",
        "def P(A, Omega):\n",
        "  P = Fraction(len(A), len(Omega))\n",
        "  return P"
      ],
      "metadata": {
        "id": "dSEAPIDK_pW4"
      },
      "execution_count": 27,
      "outputs": []
    },
    {
      "cell_type": "markdown",
      "source": [
        "$$S_{n}=\\{(i,j)\\in \\Omega : i+j =n \\}$$"
      ],
      "metadata": {
        "id": "52USk9FNrqse"
      }
    },
    {
      "cell_type": "code",
      "source": [
        "'''\n",
        "Obtenemos S_2: numero de eventos donde la suma de las caras es igual a 2.\n",
        "- i: caras del dado 1\n",
        "- j: caras del dado 2\n",
        "- i+j=2: suma de las caras es igual a 2, con lo que si cumple la condicion se agrega a S_2.\n",
        "'''\n",
        "S_2 = {(i,j) for i in range(1,7) for j in range(1,7) if i+j == 2 }\n",
        "S_2"
      ],
      "metadata": {
        "colab": {
          "base_uri": "https://localhost:8080/"
        },
        "id": "5ofDAvzGrrGg",
        "outputId": "8d7d400a-0f44-4ec0-8791-1511ac6a20c1"
      },
      "execution_count": 12,
      "outputs": [
        {
          "output_type": "execute_result",
          "data": {
            "text/plain": [
              "{(1, 1)}"
            ]
          },
          "metadata": {},
          "execution_count": 12
        }
      ]
    },
    {
      "cell_type": "code",
      "source": [
        "# Obtenemos L: lista de caras de un dado\n",
        "L = [i for i in range(1,7)]\n",
        "L"
      ],
      "metadata": {
        "colab": {
          "base_uri": "https://localhost:8080/"
        },
        "id": "UQ7RZ_WwsZl1",
        "outputId": "88659b69-dfc9-4422-dfc1-1e5347d36898"
      },
      "execution_count": 16,
      "outputs": [
        {
          "output_type": "execute_result",
          "data": {
            "text/plain": [
              "[1, 2, 3, 4, 5, 6]"
            ]
          },
          "metadata": {},
          "execution_count": 16
        }
      ]
    },
    {
      "cell_type": "code",
      "source": [
        "# Omega: todos los posibles valores al lanzar dos dados.\n",
        "Omega = set(product(L, repeat=2))\n",
        "Omega"
      ],
      "metadata": {
        "colab": {
          "base_uri": "https://localhost:8080/"
        },
        "id": "wiLB0y6osQm7",
        "outputId": "d056a502-37a5-4c5f-dec8-c8a472a59df8"
      },
      "execution_count": 17,
      "outputs": [
        {
          "output_type": "execute_result",
          "data": {
            "text/plain": [
              "{(1, 1),\n",
              " (1, 2),\n",
              " (1, 3),\n",
              " (1, 4),\n",
              " (1, 5),\n",
              " (1, 6),\n",
              " (2, 1),\n",
              " (2, 2),\n",
              " (2, 3),\n",
              " (2, 4),\n",
              " (2, 5),\n",
              " (2, 6),\n",
              " (3, 1),\n",
              " (3, 2),\n",
              " (3, 3),\n",
              " (3, 4),\n",
              " (3, 5),\n",
              " (3, 6),\n",
              " (4, 1),\n",
              " (4, 2),\n",
              " (4, 3),\n",
              " (4, 4),\n",
              " (4, 5),\n",
              " (4, 6),\n",
              " (5, 1),\n",
              " (5, 2),\n",
              " (5, 3),\n",
              " (5, 4),\n",
              " (5, 5),\n",
              " (5, 6),\n",
              " (6, 1),\n",
              " (6, 2),\n",
              " (6, 3),\n",
              " (6, 4),\n",
              " (6, 5),\n",
              " (6, 6)}"
            ]
          },
          "metadata": {},
          "execution_count": 17
        }
      ]
    },
    {
      "cell_type": "code",
      "source": [
        "# S (variable aleatorio): por cada evento, suma de las caras de los dados.\n",
        "S = {(i,j): i+j for i,j in Omega}\n",
        "S"
      ],
      "metadata": {
        "colab": {
          "base_uri": "https://localhost:8080/"
        },
        "id": "kODkSqO-sREo",
        "outputId": "5f95204a-6f1c-46ca-91d2-49097dbabe32"
      },
      "execution_count": 18,
      "outputs": [
        {
          "output_type": "execute_result",
          "data": {
            "text/plain": [
              "{(3, 4): 7,\n",
              " (4, 3): 7,\n",
              " (3, 1): 4,\n",
              " (5, 4): 9,\n",
              " (4, 6): 10,\n",
              " (5, 1): 6,\n",
              " (2, 2): 4,\n",
              " (1, 6): 7,\n",
              " (2, 5): 7,\n",
              " (1, 3): 4,\n",
              " (6, 2): 8,\n",
              " (6, 5): 11,\n",
              " (4, 2): 6,\n",
              " (4, 5): 9,\n",
              " (3, 3): 6,\n",
              " (5, 6): 11,\n",
              " (3, 6): 9,\n",
              " (5, 3): 8,\n",
              " (2, 4): 6,\n",
              " (1, 2): 3,\n",
              " (2, 1): 3,\n",
              " (1, 5): 6,\n",
              " (6, 1): 7,\n",
              " (6, 4): 10,\n",
              " (3, 2): 5,\n",
              " (4, 1): 5,\n",
              " (3, 5): 8,\n",
              " (5, 2): 7,\n",
              " (4, 4): 8,\n",
              " (5, 5): 10,\n",
              " (1, 1): 2,\n",
              " (1, 4): 5,\n",
              " (2, 3): 5,\n",
              " (2, 6): 8,\n",
              " (6, 6): 12,\n",
              " (6, 3): 9}"
            ]
          },
          "metadata": {},
          "execution_count": 18
        }
      ]
    },
    {
      "cell_type": "code",
      "source": [
        "len (S) # numero de eventos"
      ],
      "metadata": {
        "colab": {
          "base_uri": "https://localhost:8080/"
        },
        "id": "koAJIiTmsfwa",
        "outputId": "d0738d0e-39ca-4470-a039-dfaf077e99ba"
      },
      "execution_count": 20,
      "outputs": [
        {
          "output_type": "execute_result",
          "data": {
            "text/plain": [
              "36"
            ]
          },
          "metadata": {},
          "execution_count": 20
        }
      ]
    },
    {
      "cell_type": "code",
      "source": [
        "from collections import defaultdict\n",
        "\n",
        "dS = defaultdict(set) # devuelve un objeto similar a un diccionario\n",
        "dS"
      ],
      "metadata": {
        "colab": {
          "base_uri": "https://localhost:8080/"
        },
        "id": "695rvDZtwWUS",
        "outputId": "d9b90965-7bd7-419c-99a3-d8569da5da1d"
      },
      "execution_count": 24,
      "outputs": [
        {
          "output_type": "execute_result",
          "data": {
            "text/plain": [
              "defaultdict(set, {})"
            ]
          },
          "metadata": {},
          "execution_count": 24
        }
      ]
    },
    {
      "cell_type": "code",
      "source": [
        "'''\n",
        "Iteramos cada evento (elemento) en la variable aleatoria,\n",
        "agrupamos los eventos en los que se cumple la condicion de la suma de las caras de los dados.\n",
        "'''\n",
        "for l, v in S.items():\n",
        "  dS[v].add(l)\n",
        "\n",
        "dS"
      ],
      "metadata": {
        "colab": {
          "base_uri": "https://localhost:8080/"
        },
        "id": "qPkYJS3DwaMG",
        "outputId": "af58857c-1072-42e8-df84-e5bfefafb3cd"
      },
      "execution_count": 28,
      "outputs": [
        {
          "output_type": "execute_result",
          "data": {
            "text/plain": [
              "defaultdict(set,\n",
              "            {7: {(1, 6), (2, 5), (3, 4), (4, 3), (5, 2), (6, 1)},\n",
              "             4: {(1, 3), (2, 2), (3, 1)},\n",
              "             9: {(3, 6), (4, 5), (5, 4), (6, 3)},\n",
              "             10: {(4, 6), (5, 5), (6, 4)},\n",
              "             6: {(1, 5), (2, 4), (3, 3), (4, 2), (5, 1)},\n",
              "             8: {(2, 6), (3, 5), (4, 4), (5, 3), (6, 2)},\n",
              "             11: {(5, 6), (6, 5)},\n",
              "             3: {(1, 2), (2, 1)},\n",
              "             5: {(1, 4), (2, 3), (3, 2), (4, 1)},\n",
              "             2: {(1, 1)},\n",
              "             12: {(6, 6)}})"
            ]
          },
          "metadata": {},
          "execution_count": 28
        }
      ]
    },
    {
      "cell_type": "code",
      "source": [
        "#Obtenemos la ley de la variable aleatoria S por medio de la funcion P.\n",
        "leyS = {k : P(A,Omega) for k , A in dS.items() }\n",
        "leyS"
      ],
      "metadata": {
        "colab": {
          "base_uri": "https://localhost:8080/"
        },
        "id": "IVb041GQyTrM",
        "outputId": "196cee55-e2aa-465f-f073-03f956ae93da"
      },
      "execution_count": 30,
      "outputs": [
        {
          "output_type": "execute_result",
          "data": {
            "text/plain": [
              "{7: Fraction(1, 6),\n",
              " 4: Fraction(1, 12),\n",
              " 9: Fraction(1, 9),\n",
              " 10: Fraction(1, 12),\n",
              " 6: Fraction(5, 36),\n",
              " 8: Fraction(5, 36),\n",
              " 11: Fraction(1, 18),\n",
              " 3: Fraction(1, 18),\n",
              " 5: Fraction(1, 9),\n",
              " 2: Fraction(1, 36),\n",
              " 12: Fraction(1, 36)}"
            ]
          },
          "metadata": {},
          "execution_count": 30
        }
      ]
    },
    {
      "cell_type": "markdown",
      "source": [
        "## Introducción a pandas"
      ],
      "metadata": {
        "id": "DCdwkEKh2qIi"
      }
    },
    {
      "cell_type": "code",
      "source": [
        "import pandas as pd # importamos la libreria\n",
        "\n",
        "leyS = pd.Series(leyS) # Transformamos el diccionario leyS en un DataFrame de pandas.\n",
        "leyS = leyS.sort_index() # Ordenamos el DataFrame por la suma de las caras de los dados.\n",
        "\n",
        "leyS #"
      ],
      "metadata": {
        "colab": {
          "base_uri": "https://localhost:8080/"
        },
        "id": "RaTUa0ld2XeH",
        "outputId": "14491f12-b1b3-4b10-b60a-66dd3520cc08"
      },
      "execution_count": 33,
      "outputs": [
        {
          "output_type": "execute_result",
          "data": {
            "text/plain": [
              "2     1/36\n",
              "3     1/18\n",
              "4     1/12\n",
              "5      1/9\n",
              "6     5/36\n",
              "7      1/6\n",
              "8     5/36\n",
              "9      1/9\n",
              "10    1/12\n",
              "11    1/18\n",
              "12    1/36\n",
              "dtype: object"
            ]
          },
          "metadata": {},
          "execution_count": 33
        }
      ]
    },
    {
      "cell_type": "markdown",
      "source": [
        "### Ejercicios:\n",
        "1.- Documenta tu colab.\n",
        "\n",
        "2.- Calcula la ley de las siguientes variables aleatorias:\n",
        "\n",
        "    2.1 La diferencia de las caras sea mayor que $1$.\n",
        "    2.2 La suma de las caras sea par.\n",
        "\n",
        "3.- Verifica, en cada caso, que $$\\sum_{k\\in R_{X}}\\mathbb{P}(X=x)=1.$$\n",
        "\n",
        "4.- Sube tu notebook a tu GitHub."
      ],
      "metadata": {
        "id": "q4-HRer53H51"
      }
    },
    {
      "cell_type": "markdown",
      "source": [
        "---\n",
        "* Para 2.1: la diferencia de las caras sea mayor que 1\n",
        "\n",
        "\n",
        "$$S_{n}=\\{(i,j)\\in \\Omega : i-j > 1 \\}$$"
      ],
      "metadata": {
        "id": "va-pzTtR4mbr"
      }
    },
    {
      "cell_type": "code",
      "source": [
        "'''\n",
        "Obtenemos S_2: numero de eventos donde la diferencia de las caras es mayor que 1.\n",
        "- i: caras del dado 1\n",
        "- j: caras del dado 2\n",
        "- i-j > 1: diferencia de las caras es mayor que 1, con lo que si cumple la condicion se agrega a S_2.\n",
        "'''\n",
        "S_3 = {(i,j) for i in range(1,7) for j in range(1,7) if i-j > 1 }\n",
        "S_3"
      ],
      "metadata": {
        "colab": {
          "base_uri": "https://localhost:8080/"
        },
        "id": "ZhuoI2nB3Hdw",
        "outputId": "fe16c4f5-339d-4307-fbba-18714c347110"
      },
      "execution_count": 36,
      "outputs": [
        {
          "output_type": "execute_result",
          "data": {
            "text/plain": [
              "{(3, 1),\n",
              " (4, 1),\n",
              " (4, 2),\n",
              " (5, 1),\n",
              " (5, 2),\n",
              " (5, 3),\n",
              " (6, 1),\n",
              " (6, 2),\n",
              " (6, 3),\n",
              " (6, 4)}"
            ]
          },
          "metadata": {},
          "execution_count": 36
        }
      ]
    },
    {
      "cell_type": "code",
      "source": [
        "S = {(i,j): i-j for i,j in Omega}\n",
        "S"
      ],
      "metadata": {
        "colab": {
          "base_uri": "https://localhost:8080/"
        },
        "id": "iMQv2qv24MEB",
        "outputId": "116b87d5-48a5-41c7-842e-6d9d2f7aa48d"
      },
      "execution_count": 38,
      "outputs": [
        {
          "output_type": "execute_result",
          "data": {
            "text/plain": [
              "{(3, 4): -1,\n",
              " (4, 3): 1,\n",
              " (3, 1): 2,\n",
              " (5, 4): 1,\n",
              " (4, 6): -2,\n",
              " (5, 1): 4,\n",
              " (2, 2): 0,\n",
              " (1, 6): -5,\n",
              " (2, 5): -3,\n",
              " (1, 3): -2,\n",
              " (6, 2): 4,\n",
              " (6, 5): 1,\n",
              " (4, 2): 2,\n",
              " (4, 5): -1,\n",
              " (3, 3): 0,\n",
              " (5, 6): -1,\n",
              " (3, 6): -3,\n",
              " (5, 3): 2,\n",
              " (2, 4): -2,\n",
              " (1, 2): -1,\n",
              " (2, 1): 1,\n",
              " (1, 5): -4,\n",
              " (6, 1): 5,\n",
              " (6, 4): 2,\n",
              " (3, 2): 1,\n",
              " (4, 1): 3,\n",
              " (3, 5): -2,\n",
              " (5, 2): 3,\n",
              " (4, 4): 0,\n",
              " (5, 5): 0,\n",
              " (1, 1): 0,\n",
              " (1, 4): -3,\n",
              " (2, 3): -1,\n",
              " (2, 6): -4,\n",
              " (6, 6): 0,\n",
              " (6, 3): 3}"
            ]
          },
          "metadata": {},
          "execution_count": 38
        }
      ]
    },
    {
      "cell_type": "code",
      "source": [
        "len (S) # numero de eventos"
      ],
      "metadata": {
        "colab": {
          "base_uri": "https://localhost:8080/"
        },
        "id": "70L5CFWk5dYI",
        "outputId": "ab92233b-8e35-4857-c68f-263e73cba312"
      },
      "execution_count": 39,
      "outputs": [
        {
          "output_type": "execute_result",
          "data": {
            "text/plain": [
              "36"
            ]
          },
          "metadata": {},
          "execution_count": 39
        }
      ]
    },
    {
      "cell_type": "code",
      "source": [
        "del dS # eliminamos el diccionario dS\n",
        "\n",
        "dS = defaultdict(set) # devuelve un objeto similar a un diccionario\n",
        "\n",
        "'''\n",
        "Iteramos cada evento (elemento) en la variable aleatoria,\n",
        "agrupamos los eventos en los que se cumple la condicion de la suma de las caras de los dados.\n",
        "'''\n",
        "\n",
        "for l, v in S.items():\n",
        "  dS[v].add(l)\n",
        "\n",
        "#Obtenemos la ley de la variable aleatoria S por medio de la funcion P.\n",
        "leyS = {k : P(A,Omega) for k , A in dS.items() }\n",
        "\n",
        "leyS = pd.Series(leyS) # Transformamos el diccionario leyS en un DataFrame de pandas.\n",
        "leyS = leyS.sort_index() # Ordenamos el DataFrame por la suma de las caras de los dados.\n",
        "\n",
        "leyS #"
      ],
      "metadata": {
        "colab": {
          "base_uri": "https://localhost:8080/"
        },
        "id": "3Da2NdtC5kom",
        "outputId": "82830344-6011-41ec-a9e7-9eab7115d6bd"
      },
      "execution_count": 45,
      "outputs": [
        {
          "output_type": "execute_result",
          "data": {
            "text/plain": [
              "-5    1/36\n",
              "-4    1/18\n",
              "-3    1/12\n",
              "-2     1/9\n",
              "-1    5/36\n",
              " 0     1/6\n",
              " 1    5/36\n",
              " 2     1/9\n",
              " 3    1/12\n",
              " 4    1/18\n",
              " 5    1/36\n",
              "dtype: object"
            ]
          },
          "metadata": {},
          "execution_count": 45
        }
      ]
    },
    {
      "cell_type": "markdown",
      "source": [
        "---\n",
        "* Para 2.1: la suma de las caras sea par\n",
        "\n",
        "\n",
        "$$S_{n}=\\{(i,j)\\in \\Omega : \\mod((i+j), 2) = 0 \\}$$"
      ],
      "metadata": {
        "id": "lH4SL3OJ6WLZ"
      }
    },
    {
      "cell_type": "code",
      "source": [
        "'''\n",
        "Obtenemos S_4: numero de eventos donde la suma de las caras es par.\n",
        "- i: caras del dado 1\n",
        "- j: caras del dado 2\n",
        "- (i+j)%2==0: suma de las caras es par, con lo que si cumple la condicion se agrega a S_4.\n",
        "'''\n",
        "S_4 = {(i,j) for i in range(1,7) for j in range(1,7) if (i+j)%2==0 }\n",
        "S_4"
      ],
      "metadata": {
        "colab": {
          "base_uri": "https://localhost:8080/"
        },
        "id": "_4fN5lvb6UXM",
        "outputId": "be409f64-40a9-4841-f8d4-9bcb5a1308a7"
      },
      "execution_count": 50,
      "outputs": [
        {
          "output_type": "execute_result",
          "data": {
            "text/plain": [
              "{(1, 1),\n",
              " (1, 3),\n",
              " (1, 5),\n",
              " (2, 2),\n",
              " (2, 4),\n",
              " (2, 6),\n",
              " (3, 1),\n",
              " (3, 3),\n",
              " (3, 5),\n",
              " (4, 2),\n",
              " (4, 4),\n",
              " (4, 6),\n",
              " (5, 1),\n",
              " (5, 3),\n",
              " (5, 5),\n",
              " (6, 2),\n",
              " (6, 4),\n",
              " (6, 6)}"
            ]
          },
          "metadata": {},
          "execution_count": 50
        }
      ]
    },
    {
      "cell_type": "code",
      "source": [
        "S = {(i,j): (i+j)%2 for i,j in Omega}\n",
        "S"
      ],
      "metadata": {
        "colab": {
          "base_uri": "https://localhost:8080/"
        },
        "id": "69cdNGSx87Le",
        "outputId": "3c471e99-629b-4d71-ecb7-13b284c10b04"
      },
      "execution_count": 52,
      "outputs": [
        {
          "output_type": "execute_result",
          "data": {
            "text/plain": [
              "{(3, 4): 1,\n",
              " (4, 3): 1,\n",
              " (3, 1): 0,\n",
              " (5, 4): 1,\n",
              " (4, 6): 0,\n",
              " (5, 1): 0,\n",
              " (2, 2): 0,\n",
              " (1, 6): 1,\n",
              " (2, 5): 1,\n",
              " (1, 3): 0,\n",
              " (6, 2): 0,\n",
              " (6, 5): 1,\n",
              " (4, 2): 0,\n",
              " (4, 5): 1,\n",
              " (3, 3): 0,\n",
              " (5, 6): 1,\n",
              " (3, 6): 1,\n",
              " (5, 3): 0,\n",
              " (2, 4): 0,\n",
              " (1, 2): 1,\n",
              " (2, 1): 1,\n",
              " (1, 5): 0,\n",
              " (6, 1): 1,\n",
              " (6, 4): 0,\n",
              " (3, 2): 1,\n",
              " (4, 1): 1,\n",
              " (3, 5): 0,\n",
              " (5, 2): 1,\n",
              " (4, 4): 0,\n",
              " (5, 5): 0,\n",
              " (1, 1): 0,\n",
              " (1, 4): 1,\n",
              " (2, 3): 1,\n",
              " (2, 6): 0,\n",
              " (6, 6): 0,\n",
              " (6, 3): 1}"
            ]
          },
          "metadata": {},
          "execution_count": 52
        }
      ]
    },
    {
      "cell_type": "code",
      "source": [
        "len (S) # numero de eventos"
      ],
      "metadata": {
        "colab": {
          "base_uri": "https://localhost:8080/"
        },
        "id": "el9cGSCM87iA",
        "outputId": "ca031612-887b-4bd1-e2c4-70e3f984b0e9"
      },
      "execution_count": 53,
      "outputs": [
        {
          "output_type": "execute_result",
          "data": {
            "text/plain": [
              "36"
            ]
          },
          "metadata": {},
          "execution_count": 53
        }
      ]
    },
    {
      "cell_type": "code",
      "source": [
        "del dS # eliminamos el diccionario dS\n",
        "\n",
        "dS = defaultdict(set) # devuelve un objeto similar a un diccionario\n",
        "\n",
        "'''\n",
        "Iteramos cada evento (elemento) en la variable aleatoria,\n",
        "agrupamos los eventos en los que se cumple la condicion de la suma de las caras de los dados.\n",
        "'''\n",
        "\n",
        "for l, v in S.items():\n",
        "  dS[v].add(l)\n",
        "\n",
        "#Obtenemos la ley de la variable aleatoria S por medio de la funcion P.\n",
        "leyS = {k : P(A,Omega) for k , A in dS.items() }\n",
        "\n",
        "leyS = pd.Series(leyS) # Transformamos el diccionario leyS en un DataFrame de pandas.\n",
        "leyS = leyS.sort_index() # Ordenamos el DataFrame por la suma de las caras de los dados.\n",
        "\n",
        "leyS #"
      ],
      "metadata": {
        "colab": {
          "base_uri": "https://localhost:8080/"
        },
        "id": "FwtSA5JD9H26",
        "outputId": "ee31aa54-f345-4ec4-ccb5-52b2797c0a6b"
      },
      "execution_count": 54,
      "outputs": [
        {
          "output_type": "execute_result",
          "data": {
            "text/plain": [
              "0    1/2\n",
              "1    1/2\n",
              "dtype: object"
            ]
          },
          "metadata": {},
          "execution_count": 54
        }
      ]
    }
  ]
}