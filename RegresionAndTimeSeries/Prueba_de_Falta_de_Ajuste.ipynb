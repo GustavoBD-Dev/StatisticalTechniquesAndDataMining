{
  "nbformat": 4,
  "nbformat_minor": 0,
  "metadata": {
    "colab": {
      "provenance": [],
      "authorship_tag": "ABX9TyN5ViXsnH+hQsrR+QNsj+6u",
      "include_colab_link": true
    },
    "kernelspec": {
      "name": "python3",
      "display_name": "Python 3"
    },
    "language_info": {
      "name": "python"
    }
  },
  "cells": [
    {
      "cell_type": "markdown",
      "metadata": {
        "id": "view-in-github",
        "colab_type": "text"
      },
      "source": [
        "<a href=\"https://colab.research.google.com/github/GustavoBD-Dev/StatisticalTechniquesAndDataMining/blob/RegressionModels/Prueba_de_Falta_de_Ajuste.ipynb\" target=\"_parent\"><img src=\"https://colab.research.google.com/assets/colab-badge.svg\" alt=\"Open In Colab\"/></a>"
      ]
    },
    {
      "cell_type": "code",
      "execution_count": null,
      "metadata": {
        "id": "BXE1QBSkL8c_"
      },
      "outputs": [],
      "source": [
        "import numpy as np\n",
        "import pandas as pd\n",
        "import matplotlib.pyplot as plt\n",
        "import seaborn as sns\n",
        "import warnings\n",
        "import statsmodels.api as sm\n",
        "import statsmodels.formula.api as smf\n",
        "from scipy.stats import f\n",
        "import warnings\n",
        "warnings.filterwarnings('ignore')"
      ]
    },
    {
      "cell_type": "code",
      "source": [
        "x = [150, 150, 150, 200, 200, 200, 250, 250, 250, 300, 300, 300]\n",
        "y = [77.4, 76.7, 78.2, 84.1, 84.5, 83.7, 88.9, 89.2, 89.7, 94.8, 94.7, 95.9]\n",
        "\n",
        "data = pd.DataFrame({'x': x, 'y': y})\n",
        "\n",
        "model = smf.ols(formula='y ~ x', data=data).fit()\n",
        "print(model.summary())"
      ],
      "metadata": {
        "colab": {
          "base_uri": "https://localhost:8080/"
        },
        "id": "-L8hQ2uDMOCi",
        "outputId": "2b652a6b-3d5d-43ec-9038-741639e7d75e"
      },
      "execution_count": null,
      "outputs": [
        {
          "output_type": "stream",
          "name": "stdout",
          "text": [
            "                            OLS Regression Results                            \n",
            "==============================================================================\n",
            "Dep. Variable:                      y   R-squared:                       0.992\n",
            "Model:                            OLS   Adj. R-squared:                  0.992\n",
            "Method:                 Least Squares   F-statistic:                     1317.\n",
            "Date:                Sat, 10 Aug 2024   Prob (F-statistic):           5.99e-12\n",
            "Time:                        16:49:35   Log-Likelihood:                -10.231\n",
            "No. Observations:                  12   AIC:                             24.46\n",
            "Df Residuals:                      10   BIC:                             25.43\n",
            "Df Model:                           1                                         \n",
            "Covariance Type:            nonrobust                                         \n",
            "==============================================================================\n",
            "                 coef    std err          t      P>|t|      [0.025      0.975]\n",
            "------------------------------------------------------------------------------\n",
            "Intercept     60.2633      0.744     80.956      0.000      58.605      61.922\n",
            "x              0.1165      0.003     36.294      0.000       0.109       0.124\n",
            "==============================================================================\n",
            "Omnibus:                        0.547   Durbin-Watson:                   1.618\n",
            "Prob(Omnibus):                  0.761   Jarque-Bera (JB):                0.535\n",
            "Skew:                          -0.062   Prob(JB):                        0.765\n",
            "Kurtosis:                       1.973   Cond. No.                         962.\n",
            "==============================================================================\n",
            "\n",
            "Notes:\n",
            "[1] Standard Errors assume that the covariance matrix of the errors is correctly specified.\n"
          ]
        }
      ]
    },
    {
      "cell_type": "code",
      "source": [
        "data['y_pred'] = model.fittedvalues\n",
        "data['resid']  = data['y'] - data['y_pred']\n",
        "\n",
        "grouped = data.groupby('x')\n",
        "\n",
        "pure_error = np.sum([np.sum((group['y'] - group['y'].mean())**2) for name, group in grouped])\n",
        "pure_error_df = len(data) - len(grouped)\n",
        "\n",
        "# calcular el error del modelo\n",
        "model_error = np.sum((data['y'] - data['y_pred'])**2)\n",
        "model_error_df = len(data) - len(model.params)\n",
        "\n",
        "# calcular la suma de cuadrados de falta de ajuste\n",
        "lack_of_fit_ss = model_error - pure_error\n",
        "lack_of_fit_df = model_error_df - pure_error_df\n",
        "\n",
        "# caclular la prueba F\n",
        "ms_lask_of_fit = lack_of_fit_ss / lack_of_fit_df\n",
        "ms_pure_error  = pure_error / pure_error_df\n",
        "f_stat = ms_lask_of_fit / ms_pure_error\n",
        "p_value = f.sf(f_stat, lack_of_fit_df, pure_error_df)\n",
        "\n",
        "results = pd.DataFrame({\n",
        "    'Source': ['Lack of fit', 'Pure error'],\n",
        "    'DF': [lack_of_fit_df, pure_error_df],\n",
        "    'SS': [lack_of_fit_ss, pure_error],\n",
        "    'MS': [ms_lask_of_fit, ms_pure_error],\n",
        "    'F': [f_stat, np.nan],\n",
        "    'p-value': [p_value, np.nan]\n",
        "})\n",
        "\n",
        "print(results)"
      ],
      "metadata": {
        "colab": {
          "base_uri": "https://localhost:8080/"
        },
        "id": "mbgwdLxMMhUr",
        "outputId": "e276c97a-df62-452f-84f3-5dfccca3315d"
      },
      "execution_count": null,
      "outputs": [
        {
          "output_type": "stream",
          "name": "stdout",
          "text": [
            "        Source  DF     SS      MS         F   p-value\n",
            "0  Lack of fit   2  1.206  0.6030  1.813534  0.224119\n",
            "1   Pure error   8  2.660  0.3325       NaN       NaN\n"
          ]
        }
      ]
    },
    {
      "cell_type": "markdown",
      "source": [
        "## Prueba de falta de ajuste\n",
        "\n",
        "\n",
        "ANOVA de regresión donde el error se desglosa en:\n",
        "- Error puro\n",
        "- Falta de ajuste\n",
        "\n",
        "$$H_0: \\text{no hay falta de ajuste}$$\n",
        "\n",
        "$$H_\\alpha : \\text{hay falta de ajuste}$$\n",
        "\n",
        "Estadistico de prueba $F_faltaajuste = 1.813$\n",
        "$p-vaue = 0.224$\n",
        "\n",
        "$H_0$ No se rechaza, es decir, no hay falta de ajuste"
      ],
      "metadata": {
        "id": "vhFYHKFHQCQq"
      }
    },
    {
      "cell_type": "markdown",
      "source": [
        "___"
      ],
      "metadata": {
        "id": "ztN2CyzPRNRR"
      }
    }
  ]
}